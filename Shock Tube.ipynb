{
 "cells": [
  {
   "cell_type": "markdown",
   "metadata": {},
   "source": [
    "###### Content under Creative Commons Attribution license CC-BY 4.0, code under MIT license (c)2014 L.A. Barba, C.D. Cooper, G.F. Forsyth.\n",
    "\n",
    "###### With modifications by Andrea Viceré, Urbino University"
   ]
  },
  {
   "cell_type": "markdown",
   "metadata": {},
   "source": [
    "## Sod's test problems"
   ]
  },
  {
   "cell_type": "markdown",
   "metadata": {},
   "source": [
    "Sod's test problems are standard benchmarks used to assess the accuracy of numerical solvers. The tests use a classic example of one-dimensional compressible flow: the shock-tube problem. Sod (1978) chose initial conditions and numerical discretization parameters for the shock-tube problem and used these to test several schemes, including Lax-Wendroff and MacCormack's. Since then, many others have followed Sod's example and used the same tests on new numerical methods.\n",
    "\n",
    "The shock-tube problem is so useful for testing numerical methods because it is one of the few problems that allows an exact solution of the Euler equations for compressible flow.\n",
    "\n",
    "This notebook complements the previous lessons, particularly 03.05 and 05.01 with Sod's test problems as an independent coding exercise. We'll lay out the problem for you, but leave important bits of code for you to write on your own. Good luck!"
   ]
  },
  {
   "cell_type": "markdown",
   "metadata": {},
   "source": [
    "### What's a shock tube?"
   ]
  },
  {
   "cell_type": "markdown",
   "metadata": {},
   "source": [
    "A shock tube is an idealized device that generates a one-dimensional shock wave in a **compressible** gas. The setting allows an analytical solution of the Euler equations, which is very useful for comparing with the numerical results to assess their accuracy. \n",
    "\n",
    "Picture a tube with two regions containing gas at different pressures, separated by an infinitely-thin, rigid diaphragm. The gas is initially at rest, and the left region is at a higher pressure than the region to the right of the diaphragm. At time $t = 0.0 s$, the diaphragm is ruptured instantaneously.  \n",
    "\n",
    "What happens?  \n",
    "\n",
    "You get a shock wave.  The gas at high pressure, no longer constrained by the diaphragm, rushes into the lower-pressure area and a one-dimensional unsteady flow is established, consisting of:\n",
    "\n",
    "* a shock wave traveling to the right\n",
    "* an expansion wave traveling to the left\n",
    "* a moving contact discontinuity\n",
    "\n",
    "The shock-tube problem is an example of a *Riemann problem* and it has an analytical solution, as we said. The situation is illustrated in Figure 1."
   ]
  },
  {
   "cell_type": "markdown",
   "metadata": {},
   "source": [
    "![shocktube](shocktube.png)\n",
    "#### Figure 1. The shock-tube problem."
   ]
  },
  {
   "cell_type": "markdown",
   "metadata": {},
   "source": [
    "### The Euler equations"
   ]
  },
  {
   "cell_type": "markdown",
   "metadata": {},
   "source": [
    "The Euler equations govern the motion of an inviscid fluid (no viscosity). They consist of the conservation laws of mass and momentum, and often we also need to work with the energy equation. \n",
    "\n",
    "Let's consider a 1D flow with velocity $u$ in the $x$-direction. The Euler equations for a fluid with density $\\rho$ and pressure $p$ are:\n",
    "\n",
    "\\begin{align}\n",
    "\\frac{\\partial \\rho}{\\partial t} + \\frac{\\partial}{\\partial x}(\\rho u) &= 0\\qquad\\mathrm{Mass\\ conservation} \\\\\n",
    "\\frac{\\partial}{\\partial t}(\\rho u) + \\frac{\\partial}{\\partial x} (\\rho u^2 + p)&=0\\qquad\\mathrm{Momentum\\  conservation}\n",
    "\\end{align}\n",
    "\n",
    "plus the Bernoulli equation, which we can write in this form:\n",
    "\n",
    "\\begin{equation}\n",
    "\\frac{\\partial}{\\partial t}(\\rho E_T) + \\frac{\\partial}{\\partial x} (\\rho u E_T +p u)=0\\qquad\\mathrm{Energy\\ conservation}\n",
    "\\end{equation}\n",
    "where $E_T=E+u^2/2$ is the total energy per unit mass, equal to the internal energy plus the kinetic energy (per unit mass).\n",
    "\n",
    "Written in vector form, you can see that the Euler equations bear a formal resemblance to the traffic-density equation that has been the focus of previous modules. Here is the vector representation of the Euler equation:\n",
    "\n",
    "\\begin{equation}\n",
    "\\frac{\\partial }{\\partial t} \\underline{\\mathbf{u}} + \\frac{\\partial }{\\partial x} \\underline{\\mathbf{f}} = 0\n",
    "\\end{equation}\n",
    "\n",
    "The big difference with our previous work is that the variables $\\underline{\\mathbf{u}}$ and $\\underline{\\mathbf{f}}$ are *vectors*.  If you review the lesson 02.03 about the Phugoid full model, you will recall that we can solve for several values at once using the vector form of an equation. In the Phugoid Module, it was an ODE—now we apply the same procedure to a PDE.  \n",
    "\n",
    "Let's take a look at what $\\underline{\\mathbf{u}}$ and $\\underline{\\mathbf{f}}$ consist of.  "
   ]
  },
  {
   "cell_type": "markdown",
   "metadata": {},
   "source": [
    "### The conservative form"
   ]
  },
  {
   "cell_type": "markdown",
   "metadata": {},
   "source": [
    "Many works in the early days of computational fluid dynamics in the 1960s showed that using the conservation form of the Euler equations is more accurate for situations with shock waves.  And as you already saw, the shock-tube solutions do contain shocks.\n",
    "\n",
    "The conserved variables $\\underline{\\mathbf{u}}$ for Euler's equations are\n",
    "\n",
    "\\begin{equation}\\underline{\\mathbf{u}} = \\left[ \\begin{array}{c}\n",
    "\\rho \\\\\n",
    "\\rho u \\\\\n",
    "\\rho e_T \\\\ \n",
    "\\end{array} \\right]\\end{equation}\n",
    "\n",
    "where $\\rho$ is the density of the fluid, $u$ is the velocity of the fluid and $e_T = e + \\frac{u^2}{2}$ is the specific total energy; $\\underline{\\mathbf{f}}$ is the flux vector:\n",
    "\n",
    "\\begin{equation}\\underline{\\mathbf{f}} = \\left[ \\begin{array}{c}\n",
    "\\rho u \\\\\n",
    "\\rho u^2 + p \\\\\n",
    "(\\rho e_T + p) u \\\\ \\end{array} \\right]\n",
    "\\end{equation}\n",
    "\n",
    "where $p$ is the pressure of the fluid.\n",
    "\n",
    "If we put together the conserved variables and the flux vector into our PDE, we get the following set of equations:\n",
    "\n",
    "\\begin{equation}\n",
    "\\frac{\\partial}{\\partial t}\n",
    "\\left[ \\begin{array}{c}\n",
    "\\rho \\\\\n",
    "\\rho u \\\\\n",
    "\\rho e_T \\\\ \n",
    "\\end{array} \\right]\n",
    "+ \\frac{\\partial}{\\partial x}\n",
    "\\left[ \\begin{array}{c}\n",
    "\\rho u \\\\\n",
    "\\rho u^2 + p \\\\\n",
    "(\\rho e_T + p) u\\\\ \\end{array}\n",
    "\\right]\n",
    "=0\n",
    "\\end{equation}\n",
    "\n",
    "There's one major problem there.  We have 3 equations and 4 unknowns: $\\rho, u, e, p$.  But there is a solution!  We can use an equation of state to calculate the pressure—in this case, we'll use the ideal gas law."
   ]
  },
  {
   "cell_type": "markdown",
   "metadata": {},
   "source": [
    "### Calculating the pressure"
   ]
  },
  {
   "cell_type": "markdown",
   "metadata": {},
   "source": [
    "For an ideal gas, the equation of state is\n",
    "\n",
    "$$e = e(\\rho, p) = \\frac{p}{(\\gamma -1) \\rho},$$\n",
    "\n",
    "where $\\gamma = \\frac{C_p}{C_V} = 1.4$ is a reasonable value to model air\n",
    "\n",
    "$$p = (\\gamma -1)\\rho e. $$ \n",
    "\n",
    "Recall from above that\n",
    "\n",
    "$$e_T = e+\\frac{1}{2} u^2$$\n",
    "\n",
    "hence\n",
    "\n",
    "$$e = e_T - \\frac{1}{2}u^2.$$\n",
    "\n",
    "Putting it all together, we arrive at an equation for the pressure\n",
    "\n",
    "$$p = (\\gamma -1)\\left(\\rho e_T - \\frac{\\rho u^2}{2}\\right).$$"
   ]
  },
  {
   "cell_type": "markdown",
   "metadata": {},
   "source": [
    "### Flux in terms of $\\underline{\\mathbf{u}}$"
   ]
  },
  {
   "cell_type": "markdown",
   "metadata": {},
   "source": [
    "With the traffic model, the flux was a function of traffic density.  For the Euler equations, the three equations we have are coupled and the flux *vector* is a function of $\\underline{\\mathbf{u}}$, the vector of conserved variables:\n",
    "\n",
    "$$\\underline{\\mathbf{f}} = f(\\underline{\\mathbf{u}})$$\n",
    "\n",
    "In order to get everything squared away, we need to represent $\\underline{\\mathbf{f}}$ in terms of $\\underline{\\mathbf{u}}$.\n",
    "We can introduce a little shorthand for the $\\underline{\\mathbf{u}}$ and $\\underline{\\mathbf{f}}$ vectors and define:\n",
    "\n",
    "\n",
    "$$\\underline{\\mathbf{u}} = \n",
    "\\left[ \\begin{array}{c}\n",
    "u_1 \\\\\n",
    "u_2 \\\\\n",
    "u_3 \\\\ \n",
    "\\end{array} \\right] =\n",
    "\\left[ \\begin{array}{c}\n",
    "\\rho \\\\\n",
    "\\rho u \\\\\n",
    "\\rho e_T \\\\ \n",
    "\\end{array} \\right]$$\n",
    "\n",
    "$$\\underline{\\mathbf{f}} = \n",
    "\\left[ \\begin{array}{c}\n",
    "f_1 \\\\\n",
    "f_2 \\\\\n",
    "f_3 \\\\ \\end{array} \\right] =\n",
    "\\left[ \\begin{array}{c}\n",
    "\\rho u \\\\\n",
    "\\rho u^2 + p \\\\\n",
    "(\\rho e_T + p) u\\\\ \\end{array}\n",
    "\\right]\n",
    "$$  \n",
    "\n",
    "\n",
    "With a little algebraic trickery, we can represent the pressure vector using quantities from the $\\underline{\\mathbf{u}}$ vector.\n",
    "\n",
    "$$p = (\\gamma -1)\\left(u_3 - \\frac{1}{2} \\frac{u^2_2}{u_1} \\right)$$\n",
    "\n",
    "Now that pressure can be represented in terms of $\\underline{\\mathbf{u}}$, the rest of $\\underline{\\mathbf{f}}$ isn't too difficult to resolve:"
   ]
  },
  {
   "cell_type": "markdown",
   "metadata": {},
   "source": [
    "$$\\underline{\\mathbf{f}} = \\left[ \\begin{array}{c}\n",
    "f_1 \\\\\n",
    "f_2 \\\\\n",
    "f_3 \\\\ \\end{array} \\right] =\n",
    "\\left[ \\begin{array}{c}\n",
    "u_2\\\\\n",
    "\\frac{u^2_2}{u_1} + (\\gamma -1)\\left(u_3 - \\frac{1}{2} \\frac{u^2_2}{u_1} \\right) \\\\\n",
    "\\left(u_3 + (\\gamma -1)\\left(u_3 - \\frac{1}{2} \\frac{u^2_2}{u_1}\\right) \\right) \\frac{u_2}{u_1}\\\\ \\end{array}\n",
    "\\right]$$"
   ]
  },
  {
   "cell_type": "markdown",
   "metadata": {},
   "source": [
    "## Test conditions"
   ]
  },
  {
   "cell_type": "markdown",
   "metadata": {},
   "source": [
    "The first test proposed by Sod in his 1978 paper is as follows.  \n",
    "\n",
    "In a tube spanning from $x = -10 \\text{m}$ to $x = 10 \\text{m}$ with the rigid membrane at $x = 0 \\text{m}$, we have the following initial gas states:\n",
    "\n",
    "$$\\underline{IC}_L = \\left[ \\begin{array}{c}\n",
    "\\rho_L \\\\ u_L \\\\ p_L \\\\ \\end{array}\\right] = \n",
    "\\left[ \\begin{array}{c}\n",
    "1\\ kg/m^3 \\\\ 0\\ m/s \\\\ 100\\ kN/m^2 \\\\ \\end{array}\\right]$$\n",
    "\n",
    "$$\\underline{IC}_R = \\left[ \\begin{array}{c}\n",
    "\\rho_R \\\\ u_R \\\\ p_R \\\\ \\end{array}\\right] = \n",
    "\\left[ \\begin{array}{c}\n",
    "0.125\\ kg/m^3 \\\\ 0\\ m/s \\\\ 10\\ kN/m^2 \\\\ \\end{array}\\right]$$\n",
    "\n",
    "where $\\underline{IC}_L$ are the initial density, velocity and pressure on the left side of the tube membrane and $\\underline{IC}_R$ are the initial density, velocity and pressure on the right side of the tube membrane.  \n",
    "\n",
    "The analytical solution to this test for the velocity, pressure and density, looks like the plots in Figure 2."
   ]
  },
  {
   "cell_type": "markdown",
   "metadata": {},
   "source": [
    "![shock_analytic](shock_tube_.01.png)\n",
    "\n",
    "#### Figure 2. Analytical solution for Sod's first test."
   ]
  },
  {
   "cell_type": "markdown",
   "metadata": {},
   "source": [
    "### The Richtmyer method"
   ]
  },
  {
   "cell_type": "markdown",
   "metadata": {},
   "source": [
    "For this exercise, you will be using a new scheme called the Richtmyer method.  Like the MacCormack *predictor-corrector* method that we learned in lesson 03.06, Richtmyer is a *two-step method*, given by:\n",
    "\n",
    "\\begin{align}\n",
    "\\underline{\\mathbf{u}}^{n+\\frac{1}{2}}_{i+\\frac{1}{2}} &= \\frac{1}{2} \\left( \\underline{\\mathbf{u}}^n_{i+1} + \\underline{\\mathbf{u}}^n_i \\right) - \n",
    "\\frac{\\Delta t}{2 \\Delta x} \\left( \\underline{\\mathbf{f}}^n_{i+1} - \\underline{\\mathbf{f}}^n_i\\right) \\\\\n",
    "\\underline{\\mathbf{u}}^{n+1}_i &= \\underline{\\mathbf{u}}^n_i - \\frac{\\Delta t}{\\Delta x} \\left(\\underline{\\mathbf{f}}^{n+\\frac{1}{2}}_{i+\\frac{1}{2}} - \\underline{\\mathbf{f}}^{n+\\frac{1}{2}}_{i-\\frac{1}{2}} \\right)\n",
    "\\end{align}\n",
    "\n",
    "\n",
    "The flux vectors used in the second step are obtained by evaluating the flux functions on the output of the first step:\n",
    "\n",
    "$$\\underline{\\mathbf{f}}^{n+\\frac{1}{2}}_{i+\\frac{1}{2}} = \\underline{\\mathbf{f}}\\left(\\underline{\\mathbf{u}}^{n+\\frac{1}{2}}_{i+\\frac{1}{2}}\\right).$$\n",
    "\n",
    "The first step is like a *predictor* of the solution: if you look closely, you'll see that we are applying a Lax-Friedrichs scheme here. The second step is a *corrector* that applies a leapfrog update. Figure 3 gives a sketch of the stencil for Richtmyer method, where the \"intermediate time\" $n+1/2$ will require a temporary variable in your code, just like we had in the MacCormack scheme.\n"
   ]
  },
  {
   "cell_type": "markdown",
   "metadata": {},
   "source": [
    "![richtmyer](richtmyer.png)\n",
    "\n",
    "\n",
    "#### Figure 3. Stencil of Richtmyer scheme."
   ]
  },
  {
   "cell_type": "markdown",
   "metadata": {},
   "source": [
    "## Assignment"
   ]
  },
  {
   "cell_type": "markdown",
   "metadata": {},
   "source": [
    "Your mission is to calculate the pressure, density and velocity across the shock tube at time $t = 0.01 s$.\n",
    "\n",
    "Use first the Richtmayer method, which is a **Finite Difference Method**. Check that the results *looks like* the analytical solution we've shown.\n",
    "\n",
    "If you really want a `30 e Lode` use also the MUSCL scheme, which is the **Finite Volume Method** that we have learned in lesson 05.01; in that case compare the results.\n",
    "\n",
    "Good luck!"
   ]
  },
  {
   "cell_type": "markdown",
   "metadata": {},
   "source": [
    "## Reference"
   ]
  },
  {
   "cell_type": "markdown",
   "metadata": {},
   "source": [
    "* Sod, Gary A. (1978), \"A survey of several finite difference methods for systems of nonlinear hyperbolic conservation laws,\" *J. Comput. Phys.*, Vol. 27, pp. 1–31 DOI: [10.1016/0021-9991(78)90023-2](http://dx.doi.org/10.1016%2F0021-9991%2878%2990023-2) // [PDF from Uni-Tuebingen](http://www.tat.physik.uni-tuebingen.de/~kley/lehre/bhydro/sod-paper.pdf), checked Nov. 3 , 2016.\n",
    "\n",
    "**Prima pagina della pubblicazione scientifica**:\n",
    "![paper](paper.jpg)"
   ]
  },
  {
   "cell_type": "markdown",
   "metadata": {},
   "source": [
    "**Apparato di test degli shock tube reali e particolare del diaframma impiegato all'Università di Ottawa, Canada:**\n",
    "<table cellspacing=\"2\" cellpadding=\"2\" width=\"600\" border=\"0\">\n",
    "<div align='center'>\n",
    "<tbody>\n",
    "<tr>\n",
    "<td valign=\"top\" width=\"300\"><img src=\"shock_tube_ottawa.jpg\" /> </td>\n",
    "<td valign=\"top\" width=\"300\"><img src=\"diaframma.jpg\" /> </td>\n",
    "</tr>\n",
    "</tbody>\n",
    "</div>\n",
    "</table>"
   ]
  },
  {
   "cell_type": "code",
   "execution_count": null,
   "metadata": {},
   "outputs": [],
   "source": [
    "from IPython.display import Video\n",
    "Video(\"Shock_tube_in_azione.mp4\", width = 500, height = 300)"
   ]
  },
  {
   "cell_type": "markdown",
   "metadata": {},
   "source": [
    "**National Institute of Standards and Technology**: agenzia del governo degli Stati Uniti d'America che si occupa della gestione delle tecnologie. Tra le varie mansioni, la promozione dell'economia americana attraverso la collaborazione con l'industria al fine di sviluppare standard, tecnologie e metodologie che favoriscano la produzione e il commercio, la diffusione delle previsioni meteo in tutto il nord America e la principale fornitura di materiali standardizzati.  \n",
    "*Fonte*: https://www.nist.gov/video/dynamic-pressure-sensing-shock-tube "
   ]
  },
  {
   "cell_type": "code",
   "execution_count": null,
   "metadata": {},
   "outputs": [],
   "source": [
    "# Importazione delle librerie\n",
    "import numpy as np\n",
    "from matplotlib import pyplot as plt\n",
    "%matplotlib inline\n",
    "\n",
    "# Impostazione delle caratteristiche del font per il plot\n",
    "from matplotlib import rcParams\n",
    "rcParams['font.family'] = 'serif'\n",
    "rcParams['font.weight'] = 'bold'\n",
    "rcParams['font.size'] = 13"
   ]
  },
  {
   "cell_type": "code",
   "execution_count": null,
   "metadata": {},
   "outputs": [],
   "source": [
    "# Parametri iniziali\n",
    "# Costanti\n",
    "CFL = 0.5                        # condizione di stabilità CFL \n",
    "v = 500                          # velocità massima (m/s)\n",
    "gamma = 1.4                      # coefficiente di dilatazione adiabatica (aria)\n",
    "\n",
    "# Valori per la discretizzazione\n",
    "nx = 100                         # numero di punti nella griglia spaziale\n",
    "nt = 30                          # numero di punti nella griglia temporale\n",
    "dx = 20. / nx                    # dimensione del grid step, rapporto tra metri (20) e numero di punti \n",
    "dt = CFL * (dx / v)              # dimensione del time step, regolato dalla condizione CFL\n",
    "\n",
    "# Rappresentazione del tubo\n",
    "U = np.ones((3, nx))             # array che raccoglie i parametri (velocità, pressione, densità) del tubo\n",
    "x = np.linspace(-10, 10, nx)     # rappresentazione del tubo, che si estende da -10m e 10m, per il plot"
   ]
  },
  {
   "cell_type": "code",
   "execution_count": null,
   "metadata": {},
   "outputs": [],
   "source": [
    "# Funzione wrapper per il calcolo delle condizioni iniziali del tubo\n",
    "def InitialConditions(gamma, nx):\n",
    "    \"\"\"\n",
    "       Funzione che racchiude il calcolo delle condizioni iniziali\n",
    "       \n",
    "       Parametri:\n",
    "       ----------\n",
    "       gamma: coefficiente di dilatazione adiabatica  (float)\n",
    "       \n",
    "       Risultati:\n",
    "       ----------\n",
    "       U: parametri del tubo a t = 0                  (array) \n",
    "    \"\"\"    \n",
    "    # tuple che rappresentano i valori dei parametri presi in considerazione a destra e sinistra del diaframma, t = 0\n",
    "    # l'aria all'interno del tubo è in quiete (0 m/s) e la sezione sinistra ha una pressione più alta rispetto alla destra\n",
    "    # IC: densità vel pressione                \n",
    "    c_s = (1.,    0, 100000.)                            # condizioni iniziali nel lato sinistro (IC_L)\n",
    "    c_d = (0.125, 0,  10000.)                            # condizioni iniziali nel lato destro   (IC_R)\n",
    "    \n",
    "    d = int(nx / 2)                                      # calcolo della posizione del diaframma, a metà del tubo\n",
    " \n",
    "    U[:,:d] = calcolaU(c_s[0], c_s[1], c_s[2], gamma)    # modellazione del tubo, lato sinistro (p1)\n",
    "    U[:,d:] = calcolaU(c_d[0], c_d[1], c_d[2], gamma)    # modellazione del tubo, lato destro   (p5)\n",
    "    \n",
    "    return U"
   ]
  },
  {
   "cell_type": "markdown",
   "metadata": {},
   "source": [
    "$$\\underline{IC}_L = \\left[ \\begin{array}{c}\n",
    "\\rho_L \\\\ u_L \\\\ p_L \\\\ \\end{array}\\right] = \n",
    "\\left[ \\begin{array}{c}\n",
    "1\\ kg/m^3 \\\\ 0\\ m/s \\\\ 100\\ kN/m^2 \\\\ \\end{array}\\right]$$\n",
    "\n",
    "$$\\underline{IC}_R = \\left[ \\begin{array}{c}\n",
    "\\rho_R \\\\ u_R \\\\ p_R \\\\ \\end{array}\\right] = \n",
    "\\left[ \\begin{array}{c}\n",
    "0.125\\ kg/m^3 \\\\ 0\\ m/s \\\\ 10\\ kN/m^2 \\\\ \\end{array}\\right]$$"
   ]
  },
  {
   "cell_type": "code",
   "execution_count": null,
   "metadata": {},
   "outputs": [],
   "source": [
    "# Funzione che calcola i parametri iniziali di una zona del tubo\n",
    "def calcolaU(rho, u, p, gamma):\n",
    "    \"\"\"\n",
    "       Calcola i parametri iniziali di una zona del tubo\n",
    "       \n",
    "       Parametri:\n",
    "       ----------\n",
    "       rho: densità                                   (int)   \n",
    "       u: velocità                                    (int)\n",
    "       p: pressione                                   (int)\n",
    "       gamma: coefficiente di dilatazione adiabatica  (float) \n",
    "       \n",
    "       Risultati:\n",
    "       ----------\n",
    "       U: parametri di una zona del tubo a t = 0     (array) \n",
    "    \"\"\"\n",
    "    e = p / ((gamma - 1) * rho)                     # energia interna\n",
    "    eT = e + u**2 / 2                               # energia totale per unità di massa\n",
    "    \n",
    "    return np.array([[rho], [rho * u], [rho * eT]]) # calcolo dei parametri a t = 0"
   ]
  },
  {
   "cell_type": "markdown",
   "metadata": {},
   "source": [
    "$$e = e(\\rho, p) = \\frac{p}{(\\gamma -1) \\rho},$$\n",
    "\n",
    "$$e_T = e+\\frac{1}{2} u^2$$\n",
    "\n",
    "$$\\underline{\\mathbf{u}} = \n",
    "\\left[ \\begin{array}{c}\n",
    "u_1 \\\\\n",
    "u_2 \\\\\n",
    "u_3 \\\\ \n",
    "\\end{array} \\right] =\n",
    "\\left[ \\begin{array}{c}\n",
    "\\rho \\\\\n",
    "\\rho u \\\\\n",
    "\\rho e_T \\\\ \n",
    "\\end{array} \\right]$$"
   ]
  },
  {
   "cell_type": "code",
   "execution_count": null,
   "metadata": {},
   "outputs": [],
   "source": [
    "# Funzione che calcola la soluzione con il metodo Richtmyer\n",
    "# Il primo step è lo step detto predittore e segue il modello Lax-Friedrichs\n",
    "# Il secondo step è lo step detto correttore e segue il modello Leapfrog\n",
    "def Richtmyer(U, dx, dt, nx, nt, gamma, norm = 0.0):\n",
    "    \"\"\"\n",
    "       Calcola la soluzione con il metodo Richtmyer\n",
    "       \n",
    "       Parametri:\n",
    "       ----------\n",
    "       U: parametri iniziali del tubo                 (array)\n",
    "       dx: dimensione del grid step                   (int)\n",
    "       dt: dimensione del time step                   (int)\n",
    "       nx: numero di punti nel tubo                   (int)\n",
    "       nt: numero di punti nel tempo                  (int)\n",
    "       gamma: coefficiente di dilatazione adiabatica  (float)\n",
    "       norm: fattore di smorzamento (opzionale)       (float, compreso tra 0.0 e 0.2)\n",
    "       \n",
    "       Risultati:\n",
    "       ----------\n",
    "       U: parametri del tubo dopo lo shock            (array)\n",
    "    \"\"\"\n",
    "    # array provvisori per il calcolo della soluzione\n",
    "    UP = np.ones((3, nx))        # array intermedio\n",
    "    UP_lf = np.ones((3, nx))     # array che rappresenta il primo step, Lax-Friedrichs\n",
    "    UP_leap = np.ones((3, nx))   # array che rappresenta il secondo step, Leapfrog\n",
    "    \n",
    "    for i in range(nt):\n",
    "\n",
    "        # primo step, Lax-Friedrichs\n",
    "        UP_lf[:,:-1] = 0.5 * (U[:,1:] + U[:,:-1]) - dt / (2 * dx) * (calcolaF(U[:,1:], gamma) - calcolaF(U[:,:-1], gamma))\n",
    "        \n",
    "        # secondo step, Leapfrog\n",
    "        # il metodo Leapfrog non è self starting, il primo step deve essere fornito da un'altro metodo\n",
    "        UP_leap[:,1:] = UP_lf[:,:-1] \n",
    "        UP[:,1:-1] = U[:,1:-1] - dt/dx * (calcolaF(UP_lf[:,1:-1], gamma) - calcolaF(UP_leap[:,1:-1], gamma)) +\\\n",
    "        norm * (U[:,2:] - 2 * U[:,1:-1] + U[:,:-2])  #normalizzazione \n",
    "        \n",
    "        # memorizzazione dei risultati\n",
    "        UP[:,0] = UP[:,1]\n",
    "        UP[:,-1] = UP[:,-2]\n",
    "        U[:,:] = UP.copy()\n",
    "        \n",
    "    return U"
   ]
  },
  {
   "cell_type": "markdown",
   "metadata": {},
   "source": [
    "\\begin{align}\n",
    "\\underline{\\mathbf{u}}^{n+\\frac{1}{2}}_{i+\\frac{1}{2}} &= \\frac{1}{2} \\left( \\underline{\\mathbf{u}}^n_{i+1} + \\underline{\\mathbf{u}}^n_i \\right) - \n",
    "\\frac{\\Delta t}{2 \\Delta x} \\left( \\underline{\\mathbf{f}}^n_{i+1} - \\underline{\\mathbf{f}}^n_i\\right) \\\\\n",
    "\\underline{\\mathbf{u}}^{n+1}_i &= \\underline{\\mathbf{u}}^n_i - \\frac{\\Delta t}{\\Delta x} \\left(\\underline{\\mathbf{f}}^{n+\\frac{1}{2}}_{i+\\frac{1}{2}} - \\underline{\\mathbf{f}}^{n+\\frac{1}{2}}_{i-\\frac{1}{2}} \\right)\n",
    "\\end{align}\n",
    "\n",
    "\\begin{align}\n",
    "\\underline{\\mathbf{f}}^{n+\\frac{1}{2}}_{i+\\frac{1}{2}} = \\underline{\\mathbf{f}}\\left(\\underline{\\mathbf{u}}^{n+\\frac{1}\n",
    "{2}}_{i+\\frac{1}{2}}\\right)\n",
    "\\end{align}"
   ]
  },
  {
   "cell_type": "code",
   "execution_count": null,
   "metadata": {},
   "outputs": [],
   "source": [
    "# Funzione che calcola il flusso in funzione dei valori noti di U\n",
    "def calcolaF(U, gamma):\n",
    "    \"\"\"\n",
    "       Calcola il flusso in funzione di U\n",
    "       \n",
    "       Parametri:\n",
    "       ----------\n",
    "       U: parametri del tubo                          (array)\n",
    "       gamma: coefficiente di dilatazione adiabatica  (float)\n",
    "       \n",
    "       Risultati:\n",
    "       ----------\n",
    "       F: flusso                                      (array) \n",
    "    \"\"\"\n",
    "    # variabili provvisorie per velocitò, pressione e densità\n",
    "    u1, u2, u3 = U[0], U[1], U[2]\n",
    "    \n",
    "    # calcolo vettoriale del flusso\n",
    "    return np.array([u2,\n",
    "                     u2**2 / u1 + (gamma - 1) * (u3 - u2**2 / (2 * u1)),\n",
    "                     u2 / u1 * (u3 + (gamma - 1) * (u3 - u2**2 / (2 * u1)))])"
   ]
  },
  {
   "cell_type": "markdown",
   "metadata": {},
   "source": [
    "$$\\underline{\\mathbf{f}} = \\left[ \\begin{array}{c}\n",
    "f_1 \\\\\n",
    "f_2 \\\\\n",
    "f_3 \\\\ \\end{array} \\right] =\n",
    "\\left[ \\begin{array}{c}\n",
    "u_2\\\\\n",
    "\\frac{u^2_2}{u_1} + (\\gamma -1)\\left(u_3 - \\frac{1}{2} \\frac{u^2_2}{u_1} \\right) \\\\\n",
    "\\left(u_3 + (\\gamma -1)\\left(u_3 - \\frac{1}{2} \\frac{u^2_2}{u_1}\\right) \\right) \\frac{u_2}{u_1}\\\\ \\end{array}\n",
    "\\right]$$"
   ]
  },
  {
   "cell_type": "code",
   "execution_count": null,
   "metadata": {},
   "outputs": [],
   "source": [
    "# Funzione che ricava velocità, pressione e densità dalla soluzione\n",
    "def RicavaRisultati(U, gamma):\n",
    "    \"\"\"\n",
    "       Ricava i valori di velocità, pressione, e densità dal tubo dopo lo shock\n",
    "       \n",
    "       Parametri:\n",
    "       ----------\n",
    "       U: parametri del tubo dopo lo shock            (array)\n",
    "       gamma: coefficiente di dilatazione adiabatica  (float)\n",
    "       \n",
    "       Risultati:\n",
    "       ----------\n",
    "       vel: velocità                                  (int)\n",
    "       pres: pressione                                (int)\n",
    "       den: densità                                   (int)\n",
    "    \"\"\"\n",
    "    \n",
    "    # ricavo dei risultati\n",
    "    vel = U[1,:] / U[0,:]\n",
    "    pres = (gamma - 1) * (U[2,:] - 0.5 * U[1,:]**2 / U[0,:])\n",
    "    den = U[0,:]\n",
    "    \n",
    "    return vel, pres, den"
   ]
  },
  {
   "cell_type": "code",
   "execution_count": null,
   "metadata": {},
   "outputs": [],
   "source": [
    "# Funzione per il plot dei risultati, suddivisi in velocità, pressione e densità\n",
    "def PlotShockTube(vel, pres, rho, x, colore, t):\n",
    "    # dimensione del grafico\n",
    "    plt.figure(figsize = (18, 12))\n",
    "    \n",
    "    # velocità\n",
    "    plt.subplot(2, 3, 1)\n",
    "    plt.plot(x, vel, color = colore, ls = '-', lw = 2)\n",
    "    plt.title('Velocità a t = %.2f s' % t)\n",
    "    plt.xlabel('Metri')\n",
    "    plt.ylabel('$m/s$')\n",
    "    plt.xticks(range(-10, 11, 5))\n",
    "    plt.yticks(range(0, 401, 50), rotation = 45)\n",
    "    plt.axhline(y = 0, color = '#000000', ls = ':')\n",
    "    \n",
    "    # pressione\n",
    "    plt.subplot(2, 3, 2)\n",
    "    plt.plot(x, pres, color = colore, ls = '-', lw = 2)\n",
    "    plt.title('Pressione a t = %.2f s' % t)\n",
    "    plt.xlabel('Metri')\n",
    "    plt.ylabel('$N/m^2$')\n",
    "    plt.xticks(range(-10, 11, 5))\n",
    "    plt.yticks(range(0, 100001, 10000), rotation = 45)\n",
    "    plt.axhline(y = 10000, color = '#000000', ls = ':')\n",
    "    \n",
    "    # densità\n",
    "    plt.subplot(2, 3, 3)\n",
    "    plt.plot(x, den, color = colore, ls = '-', lw = 2)\n",
    "    plt.title('Densità a t = %.2f s' % t)\n",
    "    plt.xlabel('Metri')\n",
    "    plt.ylabel('$kg/m^3$')\n",
    "    plt.xticks(range(-10, 11, 5))\n",
    "    plt.yticks(np.arange(0.0, 1.1, 0.1), rotation = 45)\n",
    "    plt.axhline(y = 0.12, color = '#000000', ls = ':')"
   ]
  },
  {
   "cell_type": "code",
   "execution_count": null,
   "metadata": {},
   "outputs": [],
   "source": [
    "# Condizioni iniziali\n",
    "# Il gas è in quiete (0 m/s), la parte sinistra del tubo ha pressione e densità maggiore\n",
    "U = InitialConditions(gamma, nx)\n",
    "vel, pres, den, = RicavaRisultati(U, gamma)\n",
    "PlotShockTube(vel, pres, den, x, '#FFA500', 0)"
   ]
  },
  {
   "cell_type": "code",
   "execution_count": null,
   "metadata": {},
   "outputs": [],
   "source": [
    "# Soluzione numerica standard\n",
    "# Il diaframma viene aperto e il gas si muove, generando uno shock\n",
    "U = InitialConditions(gamma, nx)\n",
    "U = Richtmyer(U, dx, dt, nx, nt, gamma)\n",
    "vel, pres, den, = RicavaRisultati(U, gamma)\n",
    "PlotShockTube(vel, pres, den, x, '#FF0000', 0.01)"
   ]
  },
  {
   "cell_type": "code",
   "execution_count": null,
   "metadata": {},
   "outputs": [],
   "source": [
    "# Soluzione normalizzata\n",
    "U = InitialConditions(gamma, nx)\n",
    "U = Richtmyer(U, dx, dt, nx, nt, gamma, norm = 0.1)\n",
    "vel, pres, den, = RicavaRisultati(U, gamma)\n",
    "PlotShockTube(vel, pres, den, x, '#0000FF', 0.01)"
   ]
  },
  {
   "cell_type": "markdown",
   "metadata": {},
   "source": [
    "**Soluzione analitica**:\n",
    "![shock_analytic](shock_tube_.01.png)"
   ]
  },
  {
   "cell_type": "markdown",
   "metadata": {},
   "source": [
    "**Discussione dei risultati:** Possiamo notare che nel calcolo della soluzione con il ***metodo Richtmyer***, nei punti in cui la funzione non è regolare (**punti di discontinuità**) sono presenti delle oscillizazioni numeriche.  Normalizzando i risultati con una media mobile, le oscillazioni scompaiono ma le curve non sono così definite come nella soluzione standard. Nonostante ciò, il ***metodo Richtmyer*** rimane un valido modello poichè, come tutti i **modelli predittore-correttore**, è di secondo ordine (introduce un errore **O(Δt<sup>2</sup>)**), facile da implementare e che non richiede molti calcoli (come invece avviene per esempio nel caso del modello *Lax-Wendroff*, il quale richiede ad ogni time step il calcolo dei *Jacobiani*) Inoltre, poichè lo step predittore è direzionato verso la propagazione dello shock, il modello viene rappresentato in maniera più accurata rispetto al caso in cui i due step fossero invertiti."
   ]
  },
  {
   "cell_type": "code",
   "execution_count": null,
   "metadata": {},
   "outputs": [],
   "source": [
    "# Funzione che calcola la soluzione con il metodo Richtmyer con gli step invertiti\n",
    "# Il primo step è lo step detto predittore e segue il modello Leapfrog\n",
    "# Il secondo step è lo step detto correttore e segue il modello Lax-Friedrichs\n",
    "def Richtmyer_inv(U, dx, dt, nx, nt, gamma):\n",
    "    \"\"\"\n",
    "       Calcola la soluzione con il metodo Richtmyer con gli step invertiti\n",
    "       \n",
    "       Parametri:\n",
    "       ----------\n",
    "       U: parametri iniziali del tubo                 (array)\n",
    "       dx: dimensione del grid step                   (int)\n",
    "       dt: dimensione del time step                   (int)\n",
    "       nx: numero di punti nel tubo                   (int)\n",
    "       nt: numero di punti nel tempo                  (int)\n",
    "       gamma: coefficiente di dilatazione adiabatica  (float)\n",
    "       \n",
    "       Risultati:\n",
    "       ----------\n",
    "       U: parametri del tubo dopo lo shock            (array)\n",
    "    \"\"\"\n",
    "    # array provvisori per il calcolo della soluzione\n",
    "    UP = np.ones((3, nx))        # array intermedio\n",
    "    UP_leap = np.ones((3, nx))   # array che rappresenta il primo step, Leapfrog\n",
    "    UP_lf = np.ones((3, nx))     # array che rappresenta il secondo step, Lax-Friedrichs\n",
    "    \n",
    "    for i in range(nt):\n",
    "        \n",
    "        # primo step, Leapfrog\n",
    "        # il metodo Leapfrog non è self starting, il primo step deve essere fornito da un'altro metodo\n",
    "        UP_leap[:,1:] = 0.5 * (U[:,1:] + U[:,:-1]) - dt / (2 * dx) * (calcolaF(U[:,1:], gamma) - calcolaF(U[:,:-1], gamma))\n",
    "        UP[:,1:-1] = U[:,1:-1] - dt/dx * (calcolaF(UP_lf[:,1:-1], gamma) - calcolaF(UP_leap[:,1:-1], gamma))\n",
    "        \n",
    "        # secondo step, Lax-Friedrichs\n",
    "        UP[:,:-1] = 0.5 * (UP_leap[:,1:] + UP_leap[:,:-1]) - dt / (2 * dx) * (calcolaF(UP_leap[:,1:], gamma) -\\\n",
    "        calcolaF(UP_leap[:,:-1], gamma))\n",
    "        \n",
    "        # memorizzazione dei risultati\n",
    "        UP[:,0] = UP[:,1]\n",
    "        UP[:,-1] = UP[:,-2]\n",
    "        U[:,:] = UP.copy()\n",
    "        \n",
    "    return U"
   ]
  },
  {
   "cell_type": "code",
   "execution_count": null,
   "metadata": {},
   "outputs": [],
   "source": [
    "# Soluzione con i due step dello schema predittore-correttore invertiti\n",
    "U = InitialConditions(gamma, nx)\n",
    "U = Richtmyer_inv(U, dx, dt, nx, nt, gamma)\n",
    "vel, pres, den, = RicavaRisultati(U, gamma)\n",
    "PlotShockTube(vel, pres, den, x, '#000000', 0.01)"
   ]
  },
  {
   "cell_type": "markdown",
   "metadata": {},
   "source": [
    "Studente: Alessio Muzi  \n",
    "Matricola n°: 299329  \n",
    "Sessione Invernale, Simulazione Numerica  \n",
    "Prof. Andrea Vicerè  "
   ]
  }
 ],
 "metadata": {
  "kernelspec": {
   "display_name": "Python 3",
   "language": "python",
   "name": "python3"
  },
  "language_info": {
   "codemirror_mode": {
    "name": "ipython",
    "version": 3
   },
   "file_extension": ".py",
   "mimetype": "text/x-python",
   "name": "python",
   "nbconvert_exporter": "python",
   "pygments_lexer": "ipython3",
   "version": "3.8.5"
  }
 },
 "nbformat": 4,
 "nbformat_minor": 1
}
